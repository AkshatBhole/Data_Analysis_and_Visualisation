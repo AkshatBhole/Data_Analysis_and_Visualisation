{
 "cells": [
  {
   "cell_type": "code",
   "execution_count": 9,
   "id": "8272e3d2-518c-4559-99a9-90612a25cb9b",
   "metadata": {},
   "outputs": [],
   "source": [
    "# arithematric operations\n",
    "import numpy as np"
   ]
  },
  {
   "cell_type": "code",
   "execution_count": 10,
   "id": "b683699f-bd27-42c0-bb0e-48fb3bf588d7",
   "metadata": {},
   "outputs": [],
   "source": [
    "a1=np.array([1,2,3,4,5])\n",
    "a2=np.array([6,7,8,9,10])"
   ]
  },
  {
   "cell_type": "code",
   "execution_count": 11,
   "id": "9432e731-3428-4cd9-bb64-db954934ae8f",
   "metadata": {},
   "outputs": [
    {
     "data": {
      "text/plain": [
       "array([ 7,  9, 11, 13, 15])"
      ]
     },
     "execution_count": 11,
     "metadata": {},
     "output_type": "execute_result"
    }
   ],
   "source": [
    "a1+a2"
   ]
  },
  {
   "cell_type": "code",
   "execution_count": 12,
   "id": "4faee725-61d7-4a10-9967-bee12276ede7",
   "metadata": {},
   "outputs": [],
   "source": [
    "a3=np.array([1,2,3,4,5,6,7])\n",
    "a4=np.array([1,2,3,4,5,6,7,4,5,6,7,8])\n"
   ]
  },
  {
   "cell_type": "code",
   "execution_count": 13,
   "id": "7d1677c3-4580-4999-bb4f-234c83be606a",
   "metadata": {},
   "outputs": [
    {
     "ename": "ValueError",
     "evalue": "operands could not be broadcast together with shapes (7,) (12,) ",
     "output_type": "error",
     "traceback": [
      "\u001b[31m---------------------------------------------------------------------------\u001b[39m",
      "\u001b[31mValueError\u001b[39m                                Traceback (most recent call last)",
      "\u001b[36mCell\u001b[39m\u001b[36m \u001b[39m\u001b[32mIn[13]\u001b[39m\u001b[32m, line 1\u001b[39m\n\u001b[32m----> \u001b[39m\u001b[32m1\u001b[39m \u001b[43ma3\u001b[49m\u001b[43m+\u001b[49m\u001b[43ma4\u001b[49m          \u001b[38;5;66;03m# shape same hona chahaiye arrays ka \u001b[39;00m\n",
      "\u001b[31mValueError\u001b[39m: operands could not be broadcast together with shapes (7,) (12,) "
     ]
    }
   ],
   "source": [
    "a3+a4          # shape same hona chahaiye arrays ka "
   ]
  },
  {
   "cell_type": "code",
   "execution_count": 15,
   "id": "a24653be-b5de-43da-990a-7dfc304d2cdf",
   "metadata": {},
   "outputs": [
    {
     "data": {
      "text/plain": [
       "array([-5, -5, -5, -5, -5])"
      ]
     },
     "execution_count": 15,
     "metadata": {},
     "output_type": "execute_result"
    }
   ],
   "source": [
    "a1-a2"
   ]
  },
  {
   "cell_type": "code",
   "execution_count": 16,
   "id": "f9d826a6-0418-4366-b58a-f53e61266afe",
   "metadata": {},
   "outputs": [
    {
     "data": {
      "text/plain": [
       "array([ 6, 14, 24, 36, 50])"
      ]
     },
     "execution_count": 16,
     "metadata": {},
     "output_type": "execute_result"
    }
   ],
   "source": [
    "a1*a2"
   ]
  },
  {
   "cell_type": "code",
   "execution_count": 17,
   "id": "376c6f33-5838-4ec3-a836-c6f1756d5e78",
   "metadata": {},
   "outputs": [
    {
     "data": {
      "text/plain": [
       "array([0.16666667, 0.28571429, 0.375     , 0.44444444, 0.5       ])"
      ]
     },
     "execution_count": 17,
     "metadata": {},
     "output_type": "execute_result"
    }
   ],
   "source": [
    "a1/a2"
   ]
  },
  {
   "cell_type": "code",
   "execution_count": 18,
   "id": "1b49a1b5-f677-4881-a6e3-0f99ce42df3f",
   "metadata": {},
   "outputs": [
    {
     "data": {
      "text/plain": [
       "array([0, 0, 0, 0, 0])"
      ]
     },
     "execution_count": 18,
     "metadata": {},
     "output_type": "execute_result"
    }
   ],
   "source": [
    "a1 // a2"
   ]
  },
  {
   "cell_type": "code",
   "execution_count": 19,
   "id": "8e231f1a-e7a8-486f-ba22-da0542c5790a",
   "metadata": {},
   "outputs": [
    {
     "data": {
      "text/plain": [
       "array([      1,     128,    6561,  262144, 9765625])"
      ]
     },
     "execution_count": 19,
     "metadata": {},
     "output_type": "execute_result"
    }
   ],
   "source": [
    "a1 ** a2     # a1 nke no fiir uskae ppwer me a2 ke nos respect"
   ]
  },
  {
   "cell_type": "code",
   "execution_count": null,
   "id": "19416e35-4b91-4cef-abb9-2c9c7723ee9c",
   "metadata": {},
   "outputs": [],
   "source": []
  }
 ],
 "metadata": {
  "kernelspec": {
   "display_name": "Python 3 (ipykernel)",
   "language": "python",
   "name": "python3"
  },
  "language_info": {
   "codemirror_mode": {
    "name": "ipython",
    "version": 3
   },
   "file_extension": ".py",
   "mimetype": "text/x-python",
   "name": "python",
   "nbconvert_exporter": "python",
   "pygments_lexer": "ipython3",
   "version": "3.13.5"
  },
  "widgets": {
   "application/vnd.jupyter.widget-state+json": {
    "state": {},
    "version_major": 2,
    "version_minor": 0
   }
  }
 },
 "nbformat": 4,
 "nbformat_minor": 5
}
