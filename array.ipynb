{
 "cells": [
  {
   "cell_type": "code",
   "execution_count": 2,
   "id": "2fad9a42-2f7c-4463-8ba9-133ee47a2050",
   "metadata": {},
   "outputs": [
    {
     "name": "stdout",
     "output_type": "stream",
     "text": [
      "Defaulting to user installation because normal site-packages is not writeable\n",
      "Collecting numpy\n",
      "  Downloading numpy-2.3.2-cp313-cp313-win_amd64.whl.metadata (60 kB)\n",
      "Downloading numpy-2.3.2-cp313-cp313-win_amd64.whl (12.8 MB)\n",
      "   ---------------------------------------- 0.0/12.8 MB ? eta -:--:--\n",
      "    --------------------------------------- 0.3/12.8 MB ? eta -:--:--\n",
      "   - -------------------------------------- 0.5/12.8 MB 1.5 MB/s eta 0:00:09\n",
      "   -- ------------------------------------- 0.8/12.8 MB 1.3 MB/s eta 0:00:10\n",
      "   --- ------------------------------------ 1.0/12.8 MB 1.2 MB/s eta 0:00:10\n",
      "   --- ------------------------------------ 1.0/12.8 MB 1.2 MB/s eta 0:00:10\n",
      "   --- ------------------------------------ 1.0/12.8 MB 1.2 MB/s eta 0:00:10\n",
      "   ---- ----------------------------------- 1.3/12.8 MB 897.6 kB/s eta 0:00:13\n",
      "   ---- ----------------------------------- 1.3/12.8 MB 897.6 kB/s eta 0:00:13\n",
      "   ---- ----------------------------------- 1.6/12.8 MB 784.7 kB/s eta 0:00:15\n",
      "   ---- ----------------------------------- 1.6/12.8 MB 784.7 kB/s eta 0:00:15\n",
      "   ---- ----------------------------------- 1.6/12.8 MB 784.7 kB/s eta 0:00:15\n",
      "   ----- ---------------------------------- 1.8/12.8 MB 696.0 kB/s eta 0:00:16\n",
      "   ----- ---------------------------------- 1.8/12.8 MB 696.0 kB/s eta 0:00:16\n",
      "   ----- ---------------------------------- 1.8/12.8 MB 696.0 kB/s eta 0:00:16\n",
      "   ------ --------------------------------- 2.1/12.8 MB 617.9 kB/s eta 0:00:18\n",
      "   ------ --------------------------------- 2.1/12.8 MB 617.9 kB/s eta 0:00:18\n",
      "   ------ --------------------------------- 2.1/12.8 MB 617.9 kB/s eta 0:00:18\n",
      "   ------ --------------------------------- 2.1/12.8 MB 617.9 kB/s eta 0:00:18\n",
      "   ------- -------------------------------- 2.4/12.8 MB 554.5 kB/s eta 0:00:19\n",
      "   ------- -------------------------------- 2.4/12.8 MB 554.5 kB/s eta 0:00:19\n",
      "   ------- -------------------------------- 2.4/12.8 MB 554.5 kB/s eta 0:00:19\n",
      "   -------- ------------------------------- 2.6/12.8 MB 532.1 kB/s eta 0:00:20\n",
      "   -------- ------------------------------- 2.6/12.8 MB 532.1 kB/s eta 0:00:20\n",
      "   -------- ------------------------------- 2.6/12.8 MB 532.1 kB/s eta 0:00:20\n",
      "   --------- ------------------------------ 2.9/12.8 MB 514.9 kB/s eta 0:00:20\n",
      "   --------- ------------------------------ 2.9/12.8 MB 514.9 kB/s eta 0:00:20\n",
      "   --------- ------------------------------ 3.1/12.8 MB 517.2 kB/s eta 0:00:19\n",
      "   --------- ------------------------------ 3.1/12.8 MB 517.2 kB/s eta 0:00:19\n",
      "   --------- ------------------------------ 3.1/12.8 MB 517.2 kB/s eta 0:00:19\n",
      "   ---------- ----------------------------- 3.4/12.8 MB 509.2 kB/s eta 0:00:19\n",
      "   ---------- ----------------------------- 3.4/12.8 MB 509.2 kB/s eta 0:00:19\n",
      "   ---------- ----------------------------- 3.4/12.8 MB 509.2 kB/s eta 0:00:19\n",
      "   ----------- ---------------------------- 3.7/12.8 MB 501.9 kB/s eta 0:00:19\n",
      "   ----------- ---------------------------- 3.7/12.8 MB 501.9 kB/s eta 0:00:19\n",
      "   ----------- ---------------------------- 3.7/12.8 MB 501.9 kB/s eta 0:00:19\n",
      "   ------------ --------------------------- 3.9/12.8 MB 493.7 kB/s eta 0:00:18\n",
      "   ------------ --------------------------- 3.9/12.8 MB 493.7 kB/s eta 0:00:18\n",
      "   ------------- -------------------------- 4.2/12.8 MB 494.3 kB/s eta 0:00:18\n",
      "   ------------- -------------------------- 4.2/12.8 MB 494.3 kB/s eta 0:00:18\n",
      "   ------------- -------------------------- 4.5/12.8 MB 500.3 kB/s eta 0:00:17\n",
      "   ------------- -------------------------- 4.5/12.8 MB 500.3 kB/s eta 0:00:17\n",
      "   ------------- -------------------------- 4.5/12.8 MB 500.3 kB/s eta 0:00:17\n",
      "   -------------- ------------------------- 4.7/12.8 MB 503.5 kB/s eta 0:00:17\n",
      "   -------------- ------------------------- 4.7/12.8 MB 503.5 kB/s eta 0:00:17\n",
      "   --------------- ------------------------ 5.0/12.8 MB 505.6 kB/s eta 0:00:16\n",
      "   --------------- ------------------------ 5.0/12.8 MB 505.6 kB/s eta 0:00:16\n",
      "   ---------------- ----------------------- 5.2/12.8 MB 504.6 kB/s eta 0:00:15\n",
      "   ---------------- ----------------------- 5.2/12.8 MB 504.6 kB/s eta 0:00:15\n",
      "   ---------------- ----------------------- 5.2/12.8 MB 504.6 kB/s eta 0:00:15\n",
      "   ----------------- ---------------------- 5.5/12.8 MB 501.6 kB/s eta 0:00:15\n",
      "   ----------------- ---------------------- 5.5/12.8 MB 501.6 kB/s eta 0:00:15\n",
      "   ------------------ --------------------- 5.8/12.8 MB 505.4 kB/s eta 0:00:14\n",
      "   ------------------ --------------------- 5.8/12.8 MB 505.4 kB/s eta 0:00:14\n",
      "   ------------------ --------------------- 6.0/12.8 MB 505.3 kB/s eta 0:00:14\n",
      "   ------------------ --------------------- 6.0/12.8 MB 505.3 kB/s eta 0:00:14\n",
      "   ------------------ --------------------- 6.0/12.8 MB 505.3 kB/s eta 0:00:14\n",
      "   ------------------- -------------------- 6.3/12.8 MB 505.5 kB/s eta 0:00:13\n",
      "   ------------------- -------------------- 6.3/12.8 MB 505.5 kB/s eta 0:00:13\n",
      "   -------------------- ------------------- 6.6/12.8 MB 507.5 kB/s eta 0:00:13\n",
      "   -------------------- ------------------- 6.6/12.8 MB 507.5 kB/s eta 0:00:13\n",
      "   --------------------- ------------------ 6.8/12.8 MB 513.2 kB/s eta 0:00:12\n",
      "   ---------------------- ----------------- 7.1/12.8 MB 521.7 kB/s eta 0:00:11\n",
      "   ---------------------- ----------------- 7.1/12.8 MB 521.7 kB/s eta 0:00:11\n",
      "   ---------------------- ----------------- 7.1/12.8 MB 521.7 kB/s eta 0:00:11\n",
      "   ---------------------- ----------------- 7.3/12.8 MB 517.1 kB/s eta 0:00:11\n",
      "   ---------------------- ----------------- 7.3/12.8 MB 517.1 kB/s eta 0:00:11\n",
      "   ----------------------- ---------------- 7.6/12.8 MB 519.4 kB/s eta 0:00:10\n",
      "   ----------------------- ---------------- 7.6/12.8 MB 519.4 kB/s eta 0:00:10\n",
      "   ------------------------- -------------- 8.1/12.8 MB 536.1 kB/s eta 0:00:09\n",
      "   ------------------------- -------------- 8.1/12.8 MB 536.1 kB/s eta 0:00:09\n",
      "   -------------------------- ------------- 8.4/12.8 MB 539.7 kB/s eta 0:00:09\n",
      "   -------------------------- ------------- 8.4/12.8 MB 539.7 kB/s eta 0:00:09\n",
      "   --------------------------- ------------ 8.7/12.8 MB 541.7 kB/s eta 0:00:08\n",
      "   --------------------------- ------------ 8.7/12.8 MB 541.7 kB/s eta 0:00:08\n",
      "   --------------------------- ------------ 8.9/12.8 MB 543.9 kB/s eta 0:00:08\n",
      "   --------------------------- ------------ 8.9/12.8 MB 543.9 kB/s eta 0:00:08\n",
      "   ---------------------------- ----------- 9.2/12.8 MB 545.5 kB/s eta 0:00:07\n",
      "   ---------------------------- ----------- 9.2/12.8 MB 545.5 kB/s eta 0:00:07\n",
      "   ----------------------------- ---------- 9.4/12.8 MB 550.6 kB/s eta 0:00:07\n",
      "   ------------------------------ --------- 9.7/12.8 MB 554.9 kB/s eta 0:00:06\n",
      "   ------------------------------ --------- 9.7/12.8 MB 554.9 kB/s eta 0:00:06\n",
      "   ------------------------------- -------- 10.0/12.8 MB 556.4 kB/s eta 0:00:06\n",
      "   ------------------------------- -------- 10.0/12.8 MB 556.4 kB/s eta 0:00:06\n",
      "   ------------------------------- -------- 10.2/12.8 MB 558.8 kB/s eta 0:00:05\n",
      "   -------------------------------- ------- 10.5/12.8 MB 564.3 kB/s eta 0:00:05\n",
      "   -------------------------------- ------- 10.5/12.8 MB 564.3 kB/s eta 0:00:05\n",
      "   -------------------------------- ------- 10.5/12.8 MB 564.3 kB/s eta 0:00:05\n",
      "   --------------------------------- ------ 10.7/12.8 MB 560.9 kB/s eta 0:00:04\n",
      "   --------------------------------- ------ 10.7/12.8 MB 560.9 kB/s eta 0:00:04\n",
      "   ---------------------------------- ----- 11.0/12.8 MB 560.0 kB/s eta 0:00:04\n",
      "   ---------------------------------- ----- 11.0/12.8 MB 560.0 kB/s eta 0:00:04\n",
      "   ----------------------------------- ---- 11.3/12.8 MB 564.9 kB/s eta 0:00:03\n",
      "   ------------------------------------ --- 11.5/12.8 MB 570.0 kB/s eta 0:00:03\n",
      "   ------------------------------------ --- 11.8/12.8 MB 576.4 kB/s eta 0:00:02\n",
      "   ------------------------------------- -- 12.1/12.8 MB 582.4 kB/s eta 0:00:02\n",
      "   -------------------------------------- - 12.3/12.8 MB 588.8 kB/s eta 0:00:01\n",
      "   ---------------------------------------  12.6/12.8 MB 595.6 kB/s eta 0:00:01\n",
      "   ---------------------------------------- 12.8/12.8 MB 599.2 kB/s  0:00:21\n",
      "Installing collected packages: numpy\n",
      "Successfully installed numpy-2.3.2\n",
      "Note: you may need to restart the kernel to use updated packages.\n"
     ]
    }
   ],
   "source": [
    "pip install numpy\n"
   ]
  },
  {
   "cell_type": "markdown",
   "id": "8cc7dc19-4861-4343-824c-61e7ab03e4aa",
   "metadata": {},
   "source": [
    "# Array Functions"
   ]
  },
  {
   "cell_type": "code",
   "execution_count": 3,
   "id": "bae9f72c-761e-4811-bf9f-333787e8a8f8",
   "metadata": {},
   "outputs": [],
   "source": [
    "import numpy as np"
   ]
  },
  {
   "cell_type": "code",
   "execution_count": 8,
   "id": "8a76569e-48d3-4773-8b75-a3576c568e9f",
   "metadata": {},
   "outputs": [
    {
     "data": {
      "text/plain": [
       "array([[0., 0., 0., 0.],\n",
       "       [0., 0., 0., 0.],\n",
       "       [0., 0., 0., 0.]])"
      ]
     },
     "execution_count": 8,
     "metadata": {},
     "output_type": "execute_result"
    }
   ],
   "source": [
    "np.zeros((3,4))"
   ]
  },
  {
   "cell_type": "code",
   "execution_count": 10,
   "id": "fc66f687-4117-4253-8aff-eebb99006df3",
   "metadata": {},
   "outputs": [
    {
     "data": {
      "text/plain": [
       "array([[1., 1., 1., 1.],\n",
       "       [1., 1., 1., 1.]])"
      ]
     },
     "execution_count": 10,
     "metadata": {},
     "output_type": "execute_result"
    }
   ],
   "source": [
    "arr=np.ones((2,4))\n",
    "arr"
   ]
  },
  {
   "cell_type": "code",
   "execution_count": 16,
   "id": "f669bf83-2f12-4c7a-ad45-e36e1f969d3a",
   "metadata": {},
   "outputs": [
    {
     "data": {
      "text/plain": [
       "array([0.        , 0.01010101, 0.02020202, 0.03030303, 0.04040404,\n",
       "       0.05050505, 0.06060606, 0.07070707, 0.08080808, 0.09090909,\n",
       "       0.1010101 , 0.11111111, 0.12121212, 0.13131313, 0.14141414,\n",
       "       0.15151515, 0.16161616, 0.17171717, 0.18181818, 0.19191919,\n",
       "       0.2020202 , 0.21212121, 0.22222222, 0.23232323, 0.24242424,\n",
       "       0.25252525, 0.26262626, 0.27272727, 0.28282828, 0.29292929,\n",
       "       0.3030303 , 0.31313131, 0.32323232, 0.33333333, 0.34343434,\n",
       "       0.35353535, 0.36363636, 0.37373737, 0.38383838, 0.39393939,\n",
       "       0.4040404 , 0.41414141, 0.42424242, 0.43434343, 0.44444444,\n",
       "       0.45454545, 0.46464646, 0.47474747, 0.48484848, 0.49494949,\n",
       "       0.50505051, 0.51515152, 0.52525253, 0.53535354, 0.54545455,\n",
       "       0.55555556, 0.56565657, 0.57575758, 0.58585859, 0.5959596 ,\n",
       "       0.60606061, 0.61616162, 0.62626263, 0.63636364, 0.64646465,\n",
       "       0.65656566, 0.66666667, 0.67676768, 0.68686869, 0.6969697 ,\n",
       "       0.70707071, 0.71717172, 0.72727273, 0.73737374, 0.74747475,\n",
       "       0.75757576, 0.76767677, 0.77777778, 0.78787879, 0.7979798 ,\n",
       "       0.80808081, 0.81818182, 0.82828283, 0.83838384, 0.84848485,\n",
       "       0.85858586, 0.86868687, 0.87878788, 0.88888889, 0.8989899 ,\n",
       "       0.90909091, 0.91919192, 0.92929293, 0.93939394, 0.94949495,\n",
       "       0.95959596, 0.96969697, 0.97979798, 0.98989899, 1.        ])"
      ]
     },
     "execution_count": 16,
     "metadata": {},
     "output_type": "execute_result"
    }
   ],
   "source": [
    "arr=np.linspace(0,1,100)\n",
    "arr"
   ]
  },
  {
   "cell_type": "code",
   "execution_count": 58,
   "id": "b49dd145-d104-491b-846a-a1461b9be351",
   "metadata": {},
   "outputs": [
    {
     "data": {
      "text/plain": [
       "array([ 1,  2,  3,  4,  5,  6,  7,  8,  9, 10, 11, 12, 13, 14, 15, 16, 17,\n",
       "       18, 19, 20, 21, 22, 23, 24, 25, 26, 27, 28, 29, 30, 31, 32, 33, 34,\n",
       "       35, 36, 37, 38, 39, 40, 41, 42, 43, 44, 45, 46, 47, 48, 49, 50, 51,\n",
       "       52, 53, 54, 55, 56, 57, 58, 59, 60, 61, 62, 63, 64, 65, 66, 67, 68,\n",
       "       69, 70, 71, 72, 73, 74, 75, 76, 77, 78, 79, 80, 81, 82, 83, 84, 85,\n",
       "       86, 87, 88, 89])"
      ]
     },
     "execution_count": 58,
     "metadata": {},
     "output_type": "execute_result"
    }
   ],
   "source": [
    "arr=np.arange(1,90)\n",
    "arr"
   ]
  },
  {
   "cell_type": "code",
   "execution_count": null,
   "id": "42396bd0-2f2a-40fe-b65e-6693de1780be",
   "metadata": {},
   "outputs": [],
   "source": []
  },
  {
   "cell_type": "raw",
   "id": "02da3746-80de-4a7c-ae14-7afa924ad98f",
   "metadata": {},
   "source": []
  },
  {
   "cell_type": "markdown",
   "id": "05c8b550-a1e1-4fab-8e5c-e139e0645d86",
   "metadata": {},
   "source": [
    "# Random Generation Functions"
   ]
  },
  {
   "cell_type": "code",
   "execution_count": 21,
   "id": "3885dc48-026e-4ebc-89d5-1fa7184509f3",
   "metadata": {},
   "outputs": [
    {
     "data": {
      "text/plain": [
       "array([0.24875005, 0.63432345, 0.50132376, 0.89669816, 0.4410726 ,\n",
       "       0.9192794 , 0.66173577, 0.95100849, 0.72058875, 0.50191064])"
      ]
     },
     "execution_count": 21,
     "metadata": {},
     "output_type": "execute_result"
    }
   ],
   "source": [
    "np.random.rand(10)   #normalisation hota ye mtlb 0 and 1 ke bich hi rahega sab"
   ]
  },
  {
   "cell_type": "markdown",
   "id": "3261d34e-ecc6-4e62-b3da-0379970751ca",
   "metadata": {},
   "source": [
    "np.random.randn(20)    #stdardisation follow hota -3 se 3 tak values aayegi"
   ]
  },
  {
   "cell_type": "code",
   "execution_count": 32,
   "id": "b9ba998e-f7a6-4d81-8f8d-3d0ca76f58da",
   "metadata": {},
   "outputs": [
    {
     "data": {
      "text/plain": [
       "array([15, 10, 11, 14, 10, 18, 12, 19, 18, 16, 14, 19, 12, 18, 15, 13, 10,\n",
       "       10, 15], dtype=int32)"
      ]
     },
     "execution_count": 32,
     "metadata": {},
     "output_type": "execute_result"
    }
   ],
   "source": [
    "np.random.randint(10,20,19)"
   ]
  },
  {
   "cell_type": "code",
   "execution_count": null,
   "id": "62477ccf-5355-4a09-b54e-f17792a4a74e",
   "metadata": {},
   "outputs": [],
   "source": []
  },
  {
   "cell_type": "markdown",
   "id": "db7a55a0-c81d-4a8e-8dc2-70ccd2cde56c",
   "metadata": {},
   "source": [
    "# Array Attributes    ###attribute me bracet nahi lagte funcyton ke baad"
   ]
  },
  {
   "cell_type": "code",
   "execution_count": 37,
   "id": "140334f4-c354-43ae-ba1e-2666f219b599",
   "metadata": {},
   "outputs": [
    {
     "data": {
      "text/plain": [
       "array([[1, 2, 3],\n",
       "       [4, 5, 6],\n",
       "       [7, 8, 9]])"
      ]
     },
     "execution_count": 37,
     "metadata": {},
     "output_type": "execute_result"
    }
   ],
   "source": [
    "arr=np.array([[1,2,3],[4,5,6],[7,8,9]])\n",
    "arr"
   ]
  },
  {
   "cell_type": "code",
   "execution_count": 38,
   "id": "b60f60ca-96da-4086-9e35-6760dc997eaf",
   "metadata": {},
   "outputs": [
    {
     "data": {
      "text/plain": [
       "9"
      ]
     },
     "execution_count": 38,
     "metadata": {},
     "output_type": "execute_result"
    }
   ],
   "source": [
    "arr.size"
   ]
  },
  {
   "cell_type": "code",
   "execution_count": 39,
   "id": "1df1910c-757d-4252-8fdb-8a5ce54cdf92",
   "metadata": {},
   "outputs": [
    {
     "data": {
      "text/plain": [
       "(3, 3)"
      ]
     },
     "execution_count": 39,
     "metadata": {},
     "output_type": "execute_result"
    }
   ],
   "source": [
    "arr.shape"
   ]
  },
  {
   "cell_type": "code",
   "execution_count": null,
   "id": "148250ff-ffce-4cc0-8a07-88cba40e9b19",
   "metadata": {},
   "outputs": [],
   "source": []
  },
  {
   "cell_type": "markdown",
   "id": "ef5f310f-9842-4950-8b6d-9cea55cae07c",
   "metadata": {},
   "source": [
    "# Array Methods   ###isme bracket hote fucntons ke baad"
   ]
  },
  {
   "cell_type": "code",
   "execution_count": 40,
   "id": "48fe063c-5ab9-40f6-a427-35d91537f5a5",
   "metadata": {},
   "outputs": [
    {
     "data": {
      "text/plain": [
       "array([[1, 2, 3],\n",
       "       [4, 5, 6],\n",
       "       [7, 8, 9]])"
      ]
     },
     "execution_count": 40,
     "metadata": {},
     "output_type": "execute_result"
    }
   ],
   "source": [
    "arr"
   ]
  },
  {
   "cell_type": "code",
   "execution_count": 41,
   "id": "f4764f9d-1ca2-4fe4-95b6-8ba750b0afec",
   "metadata": {},
   "outputs": [
    {
     "data": {
      "text/plain": [
       "np.int64(1)"
      ]
     },
     "execution_count": 41,
     "metadata": {},
     "output_type": "execute_result"
    }
   ],
   "source": [
    "arr.min()"
   ]
  },
  {
   "cell_type": "code",
   "execution_count": 42,
   "id": "2785ba25-052e-455f-9f97-088a6ffc5a49",
   "metadata": {},
   "outputs": [
    {
     "data": {
      "text/plain": [
       "np.int64(9)"
      ]
     },
     "execution_count": 42,
     "metadata": {},
     "output_type": "execute_result"
    }
   ],
   "source": [
    "arr.max()"
   ]
  },
  {
   "cell_type": "code",
   "execution_count": 43,
   "id": "089af931-a479-4c8d-9630-865e8a41d52f",
   "metadata": {},
   "outputs": [
    {
     "data": {
      "text/plain": [
       "np.int64(45)"
      ]
     },
     "execution_count": 43,
     "metadata": {},
     "output_type": "execute_result"
    }
   ],
   "source": [
    "arr.sum()"
   ]
  },
  {
   "cell_type": "code",
   "execution_count": 47,
   "id": "ba45c2c7-d4c1-4431-9c96-c3c63a6a168b",
   "metadata": {},
   "outputs": [
    {
     "data": {
      "text/plain": [
       "array([12, 15, 18])"
      ]
     },
     "execution_count": 47,
     "metadata": {},
     "output_type": "execute_result"
    }
   ],
   "source": [
    "np.sum(arr,axis=0)   #column(0) sum"
   ]
  },
  {
   "cell_type": "code",
   "execution_count": 48,
   "id": "27d73ace-fcc5-4a82-8189-9699643ad1d6",
   "metadata": {},
   "outputs": [
    {
     "data": {
      "text/plain": [
       "array([ 6, 15, 24])"
      ]
     },
     "execution_count": 48,
     "metadata": {},
     "output_type": "execute_result"
    }
   ],
   "source": [
    "np.sum(arr,axis=1)     #row(1) sum "
   ]
  },
  {
   "cell_type": "code",
   "execution_count": 49,
   "id": "93f101c7-c50d-4242-adc5-7221c449e898",
   "metadata": {},
   "outputs": [
    {
     "data": {
      "text/plain": [
       "np.float64(5.0)"
      ]
     },
     "execution_count": 49,
     "metadata": {},
     "output_type": "execute_result"
    }
   ],
   "source": [
    "arr.mean()"
   ]
  },
  {
   "cell_type": "code",
   "execution_count": 52,
   "id": "7bc6437b-8382-4f55-a1bf-8865009d8be7",
   "metadata": {},
   "outputs": [
    {
     "data": {
      "text/plain": [
       "np.float64(2.581988897471611)"
      ]
     },
     "execution_count": 52,
     "metadata": {},
     "output_type": "execute_result"
    }
   ],
   "source": [
    "arr.std()      #standard deviation ka"
   ]
  },
  {
   "cell_type": "code",
   "execution_count": 53,
   "id": "69f4cd44-fb47-45a0-b129-7f1baa1d0db0",
   "metadata": {},
   "outputs": [
    {
     "data": {
      "text/plain": [
       "np.int64(8)"
      ]
     },
     "execution_count": 53,
     "metadata": {},
     "output_type": "execute_result"
    }
   ],
   "source": [
    "arr.argmax()     #max element ka index   "
   ]
  },
  {
   "cell_type": "code",
   "execution_count": 54,
   "id": "48f1012d-0883-4ce3-ae1c-6204e2e411bb",
   "metadata": {},
   "outputs": [
    {
     "data": {
      "text/plain": [
       "np.int64(0)"
      ]
     },
     "execution_count": 54,
     "metadata": {},
     "output_type": "execute_result"
    }
   ],
   "source": [
    "arr.argmin()"
   ]
  },
  {
   "cell_type": "code",
   "execution_count": 67,
   "id": "7561aa35-db46-40e2-b706-d932e73802ce",
   "metadata": {},
   "outputs": [
    {
     "data": {
      "text/plain": [
       "array([ 1,  2,  3,  4,  5,  6,  7,  8,  9, 10, 11, 12, 13, 14, 15, 16, 17,\n",
       "       18, 19, 20, 21, 22, 23, 24, 25, 26, 27, 28, 29, 30])"
      ]
     },
     "execution_count": 67,
     "metadata": {},
     "output_type": "execute_result"
    }
   ],
   "source": [
    "arr=np.arange(1,31)\n",
    "arr"
   ]
  },
  {
   "cell_type": "code",
   "execution_count": 75,
   "id": "e36b4fdf-24fa-49cd-90b8-4366786cb823",
   "metadata": {},
   "outputs": [],
   "source": [
    "arr=arr.reshape(6,5)"
   ]
  },
  {
   "cell_type": "code",
   "execution_count": 76,
   "id": "578293dd-ff41-496d-b132-103b2991563f",
   "metadata": {},
   "outputs": [
    {
     "data": {
      "text/plain": [
       "array([[ 1,  2,  3,  4,  5],\n",
       "       [ 6,  7,  8,  9, 10],\n",
       "       [11, 12, 13, 14, 15],\n",
       "       [16, 17, 18, 19, 20],\n",
       "       [21, 22, 23, 24, 25],\n",
       "       [26, 27, 28, 29, 30]])"
      ]
     },
     "execution_count": 76,
     "metadata": {},
     "output_type": "execute_result"
    }
   ],
   "source": [
    "arr"
   ]
  },
  {
   "cell_type": "code",
   "execution_count": null,
   "id": "322927a4-e308-4a6b-a4e1-459b10ff7b48",
   "metadata": {},
   "outputs": [],
   "source": []
  }
 ],
 "metadata": {
  "kernelspec": {
   "display_name": "Python 3 (ipykernel)",
   "language": "python",
   "name": "python3"
  },
  "language_info": {
   "codemirror_mode": {
    "name": "ipython",
    "version": 3
   },
   "file_extension": ".py",
   "mimetype": "text/x-python",
   "name": "python",
   "nbconvert_exporter": "python",
   "pygments_lexer": "ipython3",
   "version": "3.13.5"
  },
  "widgets": {
   "application/vnd.jupyter.widget-state+json": {
    "state": {},
    "version_major": 2,
    "version_minor": 0
   }
  }
 },
 "nbformat": 4,
 "nbformat_minor": 5
}
